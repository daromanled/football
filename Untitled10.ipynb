{
 "cells": [
  {
   "cell_type": "code",
   "execution_count": 6,
   "metadata": {
    "collapsed": true
   },
   "outputs": [],
   "source": [
    "import requests\n",
    "import pandas as pd\n",
    "import matplotlib.pyplot as plt\n",
    "from scipy.cluster.vq import whiten, kmeans2\n",
    "import re\n",
    "%matplotlib inline"
   ]
  },
  {
   "cell_type": "code",
   "execution_count": 7,
   "metadata": {
    "collapsed": false
   },
   "outputs": [],
   "source": [
    "json = requests.get('http://api.football-data.org/v1/soccerseasons/439/teams', headers = { 'X-Auth-Token': 'e017b2fc9fcc4c1cb7ca5449506e172a ' }).json()\n",
    "teams = json['teams']"
   ]
  },
  {
   "cell_type": "code",
   "execution_count": 23,
   "metadata": {
    "collapsed": false
   },
   "outputs": [
    {
     "name": "stdout",
     "output_type": "stream",
     "text": [
      "Name of team: FC Rio Ave, cost: 26775000, losses: 12\n",
      "Name of team: FC Porto, cost: 179750000, losses: 4\n",
      "Name of team: Moreirense FC, cost: 13900000, losses: 17\n",
      "Name of team: FC Paços de Ferreira, cost: 20400000, losses: 12\n",
      "Name of team: Sporting CP, cost: 168750000, losses: 9\n",
      "Name of team: Maritimo Funchal, cost: 20300000, losses: 9\n",
      "Name of team: CD Tondela, cost: 10175000, losses: 17\n",
      "Name of team: SL Benfica, cost: 202850000, losses: 5\n",
      "Name of team: Boavista Porto FC, cost: 18625000, losses: 11\n",
      "Name of team: FC Arouca, cost: 17850000, losses: 17\n",
      "Name of team: Vitoria Setubal, cost: 19775000, losses: 13\n",
      "Name of team: C.F. Os Belenenses, cost: 16700000, losses: 14\n",
      "Name of team: Vitoria Guimaraes, cost: 34000000, losses: 6\n",
      "Name of team: Sporting Braga, cost: 47600000, losses: 7\n",
      "Name of team: GD Estoril Praia, cost: 18350000, losses: 15\n",
      "Name of team: Feirense, cost: 0, losses: 14\n",
      "Name of team: Nacional Funchal, cost: 17500000, losses: 18\n",
      "Name of team: G.D. Chaves, cost: 0, losses: 9\n"
     ]
    }
   ],
   "source": [
    "team_for_pd = []\n",
    "for team in teams:\n",
    "    if team['squadMarketValue'] is not None:\n",
    "        cost = int(''.join(team['squadMarketValue'].split(' ')[0].split(',')))\n",
    "    else:\n",
    "        cost = 0\n",
    "    json = requests.get(team['_links']['fixtures']['href'], headers = { 'X-Auth-Token': 'e017b2fc9fcc4c1cb7ca5449506e172a ' }).json()\n",
    "    fixtures = json['fixtures']\n",
    "    l = 0\n",
    "    for fixture in fixtures:\n",
    "        if fixture['result']['goalsAwayTeam'] is not None:\n",
    "            if fixture['result']['goalsHomeTeam'] is not None:\n",
    "                if team['name'] == fixture['homeTeamName']:\n",
    "                    if fixture['result']['goalsHomeTeam'] < fixture['result']['goalsAwayTeam']:\n",
    "                        l += 1\n",
    "                elif team['name'] == fixture['awayTeamName']:\n",
    "                    if fixture['result']['goalsAwayTeam'] < fixture['result']['goalsHomeTeam']:\n",
    "                       l += 1\n",
    "    print('Name of team: '+str(team['name'])+', cost: '+str(cost)+\", losses: \"+str(l))\n",
    "    team_for_pd.append({'name': team['name'], 'cost': team['cost'], 'lost': team['lost']})"
   ]
  },
  {
   "cell_type": "code",
   "execution_count": 29,
   "metadata": {
    "collapsed": false
   },
   "outputs": [
    {
     "data": {
      "text/plain": [
       "<matplotlib.axes._subplots.AxesSubplot at 0x2be354bcfd0>"
      ]
     },
     "execution_count": 29,
     "metadata": {},
     "output_type": "execute_result"
    },
    {
     "data": {
      "image/png": "[encoded data removed]",
      "text/plain": [
       "<matplotlib.figure.Figure at 0x2be354d89e8>"
      ]
     },
     "metadata": {},
     "output_type": "display_data"
    }
   ],
   "source": [
    "pd.DataFrame(team_for_pd).plot.scatter(x='lost', y='cost', s=50)"
   ]
  },
  {
   "cell_type": "code",
   "execution_count": 40,
   "metadata": {
    "collapsed": true
   },
   "outputs": [],
   "source": [
    "pd_teams = pd.DataFrame(team_for_pd)\n",
    "del pd_teams['name']"
   ]
  },
  {
   "cell_type": "code",
   "execution_count": 41,
   "metadata": {
    "collapsed": false
   },
   "outputs": [
    {
     "data": {
      "text/plain": [
       "<matplotlib.axes._subplots.AxesSubplot at 0x2be36e0fba8>"
      ]
     },
     "execution_count": 41,
     "metadata": {},
     "output_type": "execute_result"
    },
    {
     "data": {
      "image/png": "[encoded data removed]",
      "text/plain": [
       "<matplotlib.figure.Figure at 0x2be36e1eac8>"
      ]
     },
     "metadata": {},
     "output_type": "display_data"
    }
   ],
   "source": [
    "centroids, cluster_map = kmeans2(whiten(pd_teams.as_matrix()), 3)\n",
    "colors_map = {0: 'orange', 1: 'y', 2: 'red', 3: 'green', 4: 'blue'}\n",
    "colors = [colors_map[c] for c in cluster_map]\n",
    "pd_teams.plot.scatter(x='lost', y='cost', c=colors, s=50)"
   ]
  },
  {
   "cell_type": "code",
   "execution_count": 43,
   "metadata": {
    "collapsed": false
   },
   "outputs": [
    {
     "data": {
      "text/plain": [
       "<matplotlib.axes._subplots.AxesSubplot at 0x2be36f4db00>"
      ]
     },
     "execution_count": 43,
     "metadata": {},
     "output_type": "execute_result"
    },
    {
     "data": {
      "image/png": "[encoded data removed]",
      "text/plain": [
       "<matplotlib.figure.Figure at 0x2be36f72898>"
      ]
     },
     "metadata": {},
     "output_type": "display_data"
    }
   ],
   "source": [
    "centroids, cluster_map = kmeans2(whiten(pd_teams.as_matrix()), 5)\n",
    "colors_map = {0: 'orange', 1: 'y', 2: 'red', 3: 'green', 4: 'blue'}\n",
    "colors = [colors_map[c] for c in cluster_map]\n",
    "pd_teams.plot.scatter(x='lost', y='cost', c=colors, s=50)"
   ]
  },
  {
   "cell_type": "code",
   "execution_count": null,
   "metadata": {
    "collapsed": true
   },
   "outputs": [],
   "source": []
  },
  {
   "cell_type": "code",
   "execution_count": null,
   "metadata": {
    "collapsed": true
   },
   "outputs": [],
   "source": []
  }
 ],
 "metadata": {
  "kernelspec": {
   "display_name": "Python 3",
   "language": "python",
   "name": "python3"
  },
  "language_info": {
   "codemirror_mode": {
    "name": "ipython",
    "version": 3
   },
   "file_extension": ".py",
   "mimetype": "text/x-python",
   "name": "python",
   "nbconvert_exporter": "python",
   "pygments_lexer": "ipython3",
   "version": "3.6.0"
  }
 },
 "nbformat": 4,
 "nbformat_minor": 2
}
